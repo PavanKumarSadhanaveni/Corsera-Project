{
 "cells": [
  {
   "cell_type": "code",
   "execution_count": 6,
   "id": "08510374",
   "metadata": {},
   "outputs": [
    {
     "name": "stdout",
     "output_type": "stream",
     "text": [
      "<html>\n",
      " <head>\n",
      " </head>\n",
      " <body>\n",
      "  <div style=\"margin: 50px auto; width: 50%; border: 1px solid #dfdfdf; padding: 20px 50px 30px 50px; font-family:helvetica;\">\n",
      "   <h1>\n",
      "    We do not allow automated access to our servers.\n",
      "   </h1>\n",
      "   <h2>\n",
      "    <p>\n",
      "     Automated access to our data is prohibited by our data provider.\n",
      "    </p>\n",
      "    <p>\n",
      "     If you are a user attempting to access the site via a browser, please follow this process to regain access:\n",
      "    </p>\n",
      "    <ul>\n",
      "     <li>\n",
      "      Go to\n",
      "      <a href=\"https://whatismyipaddress.com/\" rel=\"noopener noreferrer\" target=\"_blank\">\n",
      "       whatismyipaddress\n",
      "      </a>\n",
      "      and obtain your IPv4 address\n",
      "     </li>\n",
      "     <li>\n",
      "      Email us your IPv4 address at\n",
      "      <a class=\"__cf_email__\" data-cfemail=\"4821262e270825292b3a273c3a2d262c3b66262d3c\" href=\"/cdn-cgi/l/email-protection\">\n",
      "       [email protected]\n",
      "      </a>\n",
      "     </li>\n",
      "     <li>\n",
      "      We will add you to our whitelist within 24 hours\n",
      "     </li>\n",
      "    </ul>\n",
      "   </h2>\n",
      "  </div>\n",
      "  <script data-cfasync=\"false\">\n",
      "   !function(){\"use strict\";function e(e){try{if(\"undefined\"==typeof console)return;\"error\"in console?console.error(e):console.log(e)}catch(e){}}function t(e,t){var r=e.substr(t,2);return parseInt(r,16)}function r(r,n){for(var c=\"\",o=t(r,n),a=n+2;a<r.length;a+=2){var l=t(r,a)^o;c+=String.fromCharCode(l)}try{c=decodeURIComponent(escape(c))}catch(t){e(t)}return function(e){return i.innerHTML='<a href=\"'+e.replace(/\"/g,\"&quot;\")+'\"></a>',i.childNodes[0].getAttribute(\"href\")||\"\"}(c)}function n(t){try{(function(t){for(var n=t.querySelectorAll(\"a\"),o=0;o<n.length;o++)try{var a=n[o],i=a.href.indexOf(c);i>-1&&(a.href=\"mailto:\"+r(a.href,i+c.length))}catch(t){e(t)}})(t),function(t){for(var n=t.querySelectorAll(o),c=0;c<n.length;c++)try{var i=n[c],l=i.parentNode,u=i.getAttribute(a);if(u){var f=r(u,0),d=document.createTextNode(f);l.replaceChild(d,i)}}catch(t){e(t)}}(t),function(t){for(var r=t.querySelectorAll(\"template\"),c=0;c<r.length;c++)try{n(r[c].content)}catch(t){e(t)}}(t)}catch(t){e(t)}}var c=\"/cdn-cgi/l/email-protection#\",o=\".__cf_email__\",a=\"data-cfemail\",i=document.createElement(\"div\");n(document),function(){var e=document.currentScript||document.scripts[document.scripts.length-1];e.parentNode.removeChild(e)}()}();\n",
      "  </script>\n",
      "  <script>\n",
      "   (function(){function c(){var b=a.contentDocument||a.contentWindow.document;if(b){var d=b.createElement('script');d.innerHTML=\"window.__CF$cv$params={r:'8a5af4407de37efa',t:'MTcyMTM5NDY1Mi4wMDAwMDA='};var a=document.createElement('script');a.nonce='';a.src='/cdn-cgi/challenge-platform/scripts/jsd/main.js';document.getElementsByTagName('head')[0].appendChild(a);\";b.getElementsByTagName('head')[0].appendChild(d)}}if(document.body){var a=document.createElement('iframe');a.height=1;a.width=1;a.style.position='absolute';a.style.top=0;a.style.left=0;a.style.border='none';a.style.visibility='hidden';document.body.appendChild(a);if('loading'!==document.readyState)c();else if(window.addEventListener)document.addEventListener('DOMContentLoaded',c);else{var e=document.onreadystatechange||function(){};document.onreadystatechange=function(b){e(b);'loading'!==document.readyState&&(document.onreadystatechange=e,c())}}}})();\n",
      "  </script>\n",
      " </body>\n",
      "</html>\n",
      "\n",
      "Table not found. Check the webpage structure or URL.\n"
     ]
    }
   ],
   "source": [
    "import requests\n",
    "from bs4 import BeautifulSoup\n",
    "\n",
    "url = 'https://www.macrotrends.net/stocks/charts/TSLA/tesla/revenue'\n",
    "\n",
    "response = requests.get(url)\n",
    "soup = BeautifulSoup(response.text, 'html.parser')\n",
    "\n",
    "print(soup.prettify())\n",
    "\n",
    "table = soup.find('table')\n",
    "\n",
    "if table:\n",
    "    \n",
    "    headers = [header.text for header in table.find_all('th')]\n",
    "\n",
    "    rows = table.find_all('tr')[1:]  \n",
    "    \n",
    "    data = []\n",
    "    for row in rows:\n",
    "        columns = row.find_all('td')\n",
    "        data.append([column.text.strip() for column in columns])\n",
    "\n",
    "    # Display the data\n",
    "    print(\"\\t\".join(headers))\n",
    "    for row in data:\n",
    "        print(\"\\t\".join(row))\n",
    "else:\n",
    "    print(\"Table not found. Check the webpage structure or URL.\")\n"
   ]
  },
  {
   "cell_type": "code",
   "execution_count": null,
   "id": "6136457c",
   "metadata": {},
   "outputs": [],
   "source": []
  }
 ],
 "metadata": {
  "kernelspec": {
   "display_name": "Python 3 (ipykernel)",
   "language": "python",
   "name": "python3"
  },
  "language_info": {
   "codemirror_mode": {
    "name": "ipython",
    "version": 3
   },
   "file_extension": ".py",
   "mimetype": "text/x-python",
   "name": "python",
   "nbconvert_exporter": "python",
   "pygments_lexer": "ipython3",
   "version": "3.10.13"
  }
 },
 "nbformat": 4,
 "nbformat_minor": 5
}

{
 "cells": [
  {
   "cell_type": "code",
   "execution_count": 1,
   "id": "3a032fa7",
   "metadata": {},
   "outputs": [],
   "source": [
    "import yfinance as yf\n",
    "import pandas as pd"
   ]
  },
  {
   "cell_type": "code",
   "execution_count": 2,
   "id": "ea9529c6",
   "metadata": {},
   "outputs": [
    {
     "name": "stderr",
     "output_type": "stream",
     "text": [
      "[*********************100%%**********************]  1 of 1 completed\n"
     ]
    }
   ],
   "source": [
    "gme_data = yf.download(\"GME\", start=\"2010-01-01\", end=\"2024-01-01\")"
   ]
  },
  {
   "cell_type": "code",
   "execution_count": 3,
   "id": "c0fdf9e7",
   "metadata": {},
   "outputs": [],
   "source": [
    "gme_data.reset_index(inplace=True)"
   ]
  },
  {
   "cell_type": "code",
   "execution_count": 4,
   "id": "50098c5b",
   "metadata": {},
   "outputs": [
    {
     "data": {
      "text/html": [
       "<div>\n",
       "<style scoped>\n",
       "    .dataframe tbody tr th:only-of-type {\n",
       "        vertical-align: middle;\n",
       "    }\n",
       "\n",
       "    .dataframe tbody tr th {\n",
       "        vertical-align: top;\n",
       "    }\n",
       "\n",
       "    .dataframe thead th {\n",
       "        text-align: right;\n",
       "    }\n",
       "</style>\n",
       "<table border=\"1\" class=\"dataframe\">\n",
       "  <thead>\n",
       "    <tr style=\"text-align: right;\">\n",
       "      <th></th>\n",
       "      <th>Date</th>\n",
       "      <th>Open</th>\n",
       "      <th>High</th>\n",
       "      <th>Low</th>\n",
       "      <th>Close</th>\n",
       "      <th>Adj Close</th>\n",
       "      <th>Volume</th>\n",
       "    </tr>\n",
       "  </thead>\n",
       "  <tbody>\n",
       "    <tr>\n",
       "      <th>0</th>\n",
       "      <td>2010-01-04</td>\n",
       "      <td>5.5175</td>\n",
       "      <td>5.7375</td>\n",
       "      <td>5.5000</td>\n",
       "      <td>5.7250</td>\n",
       "      <td>3.854643</td>\n",
       "      <td>26702800</td>\n",
       "    </tr>\n",
       "    <tr>\n",
       "      <th>1</th>\n",
       "      <td>2010-01-05</td>\n",
       "      <td>5.7275</td>\n",
       "      <td>5.9350</td>\n",
       "      <td>5.7250</td>\n",
       "      <td>5.8800</td>\n",
       "      <td>3.959005</td>\n",
       "      <td>21269600</td>\n",
       "    </tr>\n",
       "    <tr>\n",
       "      <th>2</th>\n",
       "      <td>2010-01-06</td>\n",
       "      <td>5.8650</td>\n",
       "      <td>6.0250</td>\n",
       "      <td>5.8050</td>\n",
       "      <td>6.0075</td>\n",
       "      <td>4.044851</td>\n",
       "      <td>21471200</td>\n",
       "    </tr>\n",
       "    <tr>\n",
       "      <th>3</th>\n",
       "      <td>2010-01-07</td>\n",
       "      <td>5.0025</td>\n",
       "      <td>5.2925</td>\n",
       "      <td>4.8550</td>\n",
       "      <td>5.1150</td>\n",
       "      <td>3.443929</td>\n",
       "      <td>164761200</td>\n",
       "    </tr>\n",
       "    <tr>\n",
       "      <th>4</th>\n",
       "      <td>2010-01-08</td>\n",
       "      <td>5.1600</td>\n",
       "      <td>5.3075</td>\n",
       "      <td>5.0575</td>\n",
       "      <td>5.0725</td>\n",
       "      <td>3.415315</td>\n",
       "      <td>47872400</td>\n",
       "    </tr>\n",
       "  </tbody>\n",
       "</table>\n",
       "</div>"
      ],
      "text/plain": [
       "        Date    Open    High     Low   Close  Adj Close     Volume\n",
       "0 2010-01-04  5.5175  5.7375  5.5000  5.7250   3.854643   26702800\n",
       "1 2010-01-05  5.7275  5.9350  5.7250  5.8800   3.959005   21269600\n",
       "2 2010-01-06  5.8650  6.0250  5.8050  6.0075   4.044851   21471200\n",
       "3 2010-01-07  5.0025  5.2925  4.8550  5.1150   3.443929  164761200\n",
       "4 2010-01-08  5.1600  5.3075  5.0575  5.0725   3.415315   47872400"
      ]
     },
     "execution_count": 4,
     "metadata": {},
     "output_type": "execute_result"
    }
   ],
   "source": [
    "gme_data.head()"
   ]
  },
  {
   "cell_type": "code",
   "execution_count": null,
   "id": "c57a6e62",
   "metadata": {},
   "outputs": [],
   "source": []
  }
 ],
 "metadata": {
  "kernelspec": {
   "display_name": "Python 3 (ipykernel)",
   "language": "python",
   "name": "python3"
  },
  "language_info": {
   "codemirror_mode": {
    "name": "ipython",
    "version": 3
   },
   "file_extension": ".py",
   "mimetype": "text/x-python",
   "name": "python",
   "nbconvert_exporter": "python",
   "pygments_lexer": "ipython3",
   "version": "3.10.13"
  }
 },
 "nbformat": 4,
 "nbformat_minor": 5
}
